{
  "nbformat": 4,
  "nbformat_minor": 0,
  "metadata": {
    "colab": {
      "name": "Day_1.ipynb",
      "provenance": [],
      "authorship_tag": "ABX9TyNVGf9b0EmhyQ5Xtf6/BDD4",
      "include_colab_link": true
    },
    "kernelspec": {
      "name": "python3",
      "display_name": "Python 3"
    },
    "language_info": {
      "name": "python"
    }
  },
  "cells": [
    {
      "cell_type": "markdown",
      "metadata": {
        "id": "view-in-github",
        "colab_type": "text"
      },
      "source": [
        "<a href=\"https://colab.research.google.com/github/sidqali/30-days-of-Coding-Chalange-in-Python/blob/main/Day_1.ipynb\" target=\"_parent\"><img src=\"https://colab.research.google.com/assets/colab-badge.svg\" alt=\"Open In Colab\"/></a>"
      ]
    },
    {
      "cell_type": "code",
      "metadata": {
        "colab": {
          "base_uri": "https://localhost:8080/"
        },
        "id": "s4S-vjLozwfr",
        "outputId": "bac18343-5982-4682-8d66-717cdd98a970"
      },
      "source": [
        "# Read a full line of input from stdin and save it to our dynamically typed variable, input_string.\n",
        "input_string = input()\n",
        "\n",
        "# Print a string literal saying \"Hello, World.\" to stdout.\n",
        "print(\"Hello, World.\")\n",
        "\n",
        "# TODO: Write a line of code here that prints the contents of input_string to stdout.\n",
        "\n",
        "print(input_string)\n"
      ],
      "execution_count": 6,
      "outputs": [
        {
          "output_type": "stream",
          "text": [
            "Welcome to 30 Days of Code!\n",
            "Hello, World.\n",
            "Welcome to 30 Days of Code!\n"
          ],
          "name": "stdout"
        }
      ]
    }
  ]
}
