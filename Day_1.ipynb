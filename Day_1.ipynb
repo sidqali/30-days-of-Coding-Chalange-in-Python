{
  "nbformat": 4,
  "nbformat_minor": 0,
  "metadata": {
    "colab": {
      "name": "Day_2.ipynb",
      "provenance": [],
      "authorship_tag": "ABX9TyMJ2KQGcQmal7/TurlbczEI"
    },
    "kernelspec": {
      "name": "python3",
      "display_name": "Python 3"
    },
    "language_info": {
      "name": "python"
    }
  },
  "cells": [
    {
      "cell_type": "code",
      "metadata": {
        "colab": {
          "base_uri": "https://localhost:8080/"
        },
        "id": "ym0tq_pAwwSo",
        "outputId": "38b663bd-1f23-49e6-b027-d2a3b4dc513a"
      },
      "source": [
        "i = 4\n",
        "d = 4.0\n",
        "s = 'HackerRank '\n",
        "var1 = None\n",
        "var2 = None\n",
        "var3 = None\n",
        "\n",
        "var1 = int(input())\n",
        "var2 = float(input())\n",
        "var3 = str(input())\n",
        "\n",
        "print(i+var1)\n",
        "print(d+var2)\n",
        "print(s+var3)"
      ],
      "execution_count": 1,
      "outputs": [
        {
          "output_type": "stream",
          "text": [
            "2\n",
            "32\n",
            "is the best\n",
            "6\n",
            "36.0\n",
            "HackerRank is the best\n"
          ],
          "name": "stdout"
        }
      ]
    },
    {
      "cell_type": "code",
      "metadata": {
        "id": "vG_GQhHuw7ok"
      },
      "source": [
        ""
      ],
      "execution_count": null,
      "outputs": []
    }
  ]
}
